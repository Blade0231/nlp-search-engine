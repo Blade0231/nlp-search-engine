{
 "cells": [
  {
   "cell_type": "code",
   "execution_count": 2,
   "id": "83dbf6a1-ddcc-4d17-9d30-ca374b97699d",
   "metadata": {},
   "outputs": [],
   "source": [
    "import pandas as pd\n",
    "import numpy as np"
   ]
  },
  {
   "cell_type": "code",
   "execution_count": 3,
   "id": "41834c0c-0504-466c-890b-f2a793591d9d",
   "metadata": {},
   "outputs": [],
   "source": [
    "input = \"need motgage for properety\""
   ]
  },
  {
   "cell_type": "markdown",
   "id": "9137b4f4-fd01-4668-a14a-fdebf1d2a133",
   "metadata": {},
   "source": [
    "## Spell Corrector"
   ]
  },
  {
   "cell_type": "code",
   "execution_count": 6,
   "id": "3dc71c98-2586-4e34-9f62-d7c6fb728c07",
   "metadata": {},
   "outputs": [],
   "source": [
    "from spellchecker import SpellChecker"
   ]
  },
  {
   "cell_type": "code",
   "execution_count": 9,
   "id": "cde7c329-5282-473b-8801-51afa7e4cd51",
   "metadata": {},
   "outputs": [],
   "source": [
    "spell = SpellChecker()\n",
    "\n",
    "\n",
    "def correct_spelling(text, custom_words=None):\n",
    "    # Add custom words to the dictionary\n",
    "    if custom_words:\n",
    "        for word in custom_words:\n",
    "            spell.word_frequency.load_words([word])\n",
    "\n",
    "    # Tokenize the text\n",
    "    words = text.split()\n",
    "    corrected_text = []\n",
    "    for word in words:\n",
    "        # Check if the word is misspelled\n",
    "        corrected_word = spell.correction(word)\n",
    "        corrected_text.append(corrected_word)\n",
    "    # Join the corrected words back into a string\n",
    "    corrected_text = ' '.join(corrected_text)\n",
    "    return corrected_text"
   ]
  },
  {
   "cell_type": "code",
   "execution_count": 11,
   "id": "538f3000-08db-4b19-8823-63db22b5aefa",
   "metadata": {},
   "outputs": [
    {
     "data": {
      "text/plain": [
       "'need mortgage for property'"
      ]
     },
     "execution_count": 11,
     "metadata": {},
     "output_type": "execute_result"
    }
   ],
   "source": [
    "correct_spelling(input, custom_words=[\"EBM\"])"
   ]
  },
  {
   "cell_type": "markdown",
   "id": "ae1d8a47-9887-4e9b-b99e-11723821c0e9",
   "metadata": {},
   "source": [
    "## Stop Words Remover"
   ]
  },
  {
   "cell_type": "code",
   "execution_count": 13,
   "id": "16d9878c-940c-45b6-9b30-9040a612f5cd",
   "metadata": {},
   "outputs": [],
   "source": [
    "from nltk.corpus import stopwords"
   ]
  },
  {
   "cell_type": "code",
   "execution_count": 18,
   "id": "7e1e2739-22c1-4cd3-951e-f65d7e311ac7",
   "metadata": {},
   "outputs": [
    {
     "data": {
      "text/plain": [
       "179"
      ]
     },
     "execution_count": 18,
     "metadata": {},
     "output_type": "execute_result"
    }
   ],
   "source": [
    "stop_words = set(stopwords.words('english'))\n",
    "len(stop_words)"
   ]
  },
  {
   "cell_type": "code",
   "execution_count": 20,
   "id": "e117bd12-c7ff-4163-8410-0a28d1375a61",
   "metadata": {},
   "outputs": [
    {
     "data": {
      "text/plain": [
       "318"
      ]
     },
     "execution_count": 20,
     "metadata": {},
     "output_type": "execute_result"
    }
   ],
   "source": [
    "from sklearn.feature_extraction.text import ENGLISH_STOP_WORDS\n",
    "\n",
    "len(ENGLISH_STOP_WORDS)"
   ]
  },
  {
   "cell_type": "code",
   "execution_count": null,
   "id": "c82a55d5-ac5b-44b5-b70e-2e46d437c7b2",
   "metadata": {},
   "outputs": [],
   "source": []
  },
  {
   "cell_type": "markdown",
   "id": "dfa201e5-261f-4fa9-85f0-d3156de42855",
   "metadata": {},
   "source": [
    "## Read Text Files"
   ]
  },
  {
   "cell_type": "code",
   "execution_count": 21,
   "id": "ac27ada3-0801-4374-b5be-fb033e02b234",
   "metadata": {},
   "outputs": [],
   "source": [
    "import glob"
   ]
  },
  {
   "cell_type": "code",
   "execution_count": 24,
   "id": "e61a3991-9533-44b4-b181-5ffece033f4c",
   "metadata": {},
   "outputs": [],
   "source": [
    "txt_files = glob.glob(\"..\\\\FAQs\\\\*.txt\")"
   ]
  },
  {
   "cell_type": "code",
   "execution_count": 55,
   "id": "3b7e5a5a-812e-41d8-9bd9-3a90522ac2b6",
   "metadata": {},
   "outputs": [],
   "source": [
    "lines = set(sum([open(f).readlines() for f in glob.glob(\"..\\\\FAQs\\\\*.txt\")],[]))\n",
    "lines.remove(\"\\n\")"
   ]
  },
  {
   "cell_type": "code",
   "execution_count": 68,
   "id": "b5d87fbf-3861-43fd-b354-bd95e1ddf6a3",
   "metadata": {},
   "outputs": [],
   "source": [
    "ds = pd.DataFrame({\"Questions\": list(lines)})"
   ]
  },
  {
   "cell_type": "code",
   "execution_count": 72,
   "id": "32ee519d-b083-452d-8566-0f35321d6ea9",
   "metadata": {},
   "outputs": [
    {
     "data": {
      "text/html": [
       "<div>\n",
       "<style scoped>\n",
       "    .dataframe tbody tr th:only-of-type {\n",
       "        vertical-align: middle;\n",
       "    }\n",
       "\n",
       "    .dataframe tbody tr th {\n",
       "        vertical-align: top;\n",
       "    }\n",
       "\n",
       "    .dataframe thead th {\n",
       "        text-align: right;\n",
       "    }\n",
       "</style>\n",
       "<table border=\"1\" class=\"dataframe\">\n",
       "  <thead>\n",
       "    <tr style=\"text-align: right;\">\n",
       "      <th></th>\n",
       "      <th>Questions</th>\n",
       "    </tr>\n",
       "  </thead>\n",
       "  <tbody>\n",
       "    <tr>\n",
       "      <th>0</th>\n",
       "      <td>What can I do if thereâ€™s a problem with a br...</td>\n",
       "    </tr>\n",
       "    <tr>\n",
       "      <th>1</th>\n",
       "      <td>Travel Pack and Travel Plus Pack: frequently a...</td>\n",
       "    </tr>\n",
       "    <tr>\n",
       "      <th>2</th>\n",
       "      <td>PINsentry for Online Banking\\n</td>\n",
       "    </tr>\n",
       "    <tr>\n",
       "      <th>3</th>\n",
       "      <td>Data breaches â€“ How to stay safe\\n</td>\n",
       "    </tr>\n",
       "    <tr>\n",
       "      <th>4</th>\n",
       "      <td>Delete payees\\n</td>\n",
       "    </tr>\n",
       "    <tr>\n",
       "      <th>...</th>\n",
       "      <td>...</td>\n",
       "    </tr>\n",
       "    <tr>\n",
       "      <th>179</th>\n",
       "      <td>What are Retailer Offers and how can I get the...</td>\n",
       "    </tr>\n",
       "    <tr>\n",
       "      <th>180</th>\n",
       "      <td>Why do my current account balances and transac...</td>\n",
       "    </tr>\n",
       "    <tr>\n",
       "      <th>181</th>\n",
       "      <td>Using your signature instead of chip and PIN\\n</td>\n",
       "    </tr>\n",
       "    <tr>\n",
       "      <th>182</th>\n",
       "      <td>How do I get, or increase, an arranged overdra...</td>\n",
       "    </tr>\n",
       "    <tr>\n",
       "      <th>183</th>\n",
       "      <td>Problems with PINs or cards when using a PINse...</td>\n",
       "    </tr>\n",
       "  </tbody>\n",
       "</table>\n",
       "<p>184 rows × 1 columns</p>\n",
       "</div>"
      ],
      "text/plain": [
       "                                             Questions\n",
       "0    What can I do if thereâ€™s a problem with a br...\n",
       "1    Travel Pack and Travel Plus Pack: frequently a...\n",
       "2                       PINsentry for Online Banking\\n\n",
       "3                 Data breaches â€“ How to stay safe\\n\n",
       "4                                      Delete payees\\n\n",
       "..                                                 ...\n",
       "179  What are Retailer Offers and how can I get the...\n",
       "180  Why do my current account balances and transac...\n",
       "181     Using your signature instead of chip and PIN\\n\n",
       "182  How do I get, or increase, an arranged overdra...\n",
       "183  Problems with PINs or cards when using a PINse...\n",
       "\n",
       "[184 rows x 1 columns]"
      ]
     },
     "execution_count": 72,
     "metadata": {},
     "output_type": "execute_result"
    }
   ],
   "source": [
    "ds"
   ]
  },
  {
   "cell_type": "code",
   "execution_count": 78,
   "id": "fb28326e-8cb5-4edb-9e6a-ee89822836bd",
   "metadata": {},
   "outputs": [],
   "source": [
    "import spacy\n",
    "\n",
    "# Load a pre-trained word embedding model (e.g., spaCy's medium English model)\n",
    "nlp = spacy.load(\"en_core_web_sm\")"
   ]
  },
  {
   "cell_type": "code",
   "execution_count": 82,
   "id": "d11872ce-8d61-477c-9cee-8891ee2a04cf",
   "metadata": {},
   "outputs": [
    {
     "name": "stderr",
     "output_type": "stream",
     "text": [
      "C:\\Users\\Blade\\anaconda3\\envs\\amaterasu\\lib\\site-packages\\tqdm\\auto.py:21: TqdmWarning: IProgress not found. Please update jupyter and ipywidgets. See https://ipywidgets.readthedocs.io/en/stable/user_install.html\n",
      "  from .autonotebook import tqdm as notebook_tqdm\n",
      "C:\\Users\\Blade\\anaconda3\\envs\\amaterasu\\lib\\site-packages\\huggingface_hub\\file_download.py:148: UserWarning: `huggingface_hub` cache-system uses symlinks by default to efficiently store duplicated files but your machine does not support them in C:\\Users\\Blade\\.cache\\huggingface\\hub\\models--sentence-transformers--all-mpnet-base-v2. Caching files will still work but in a degraded version that might require more space on your disk. This warning can be disabled by setting the `HF_HUB_DISABLE_SYMLINKS_WARNING` environment variable. For more details, see https://huggingface.co/docs/huggingface_hub/how-to-cache#limitations.\n",
      "To support symlinks on Windows, you either need to activate Developer Mode or to run Python as an administrator. In order to see activate developer mode, see this article: https://docs.microsoft.com/en-us/windows/apps/get-started/enable-your-device-for-development\n",
      "  warnings.warn(message)\n"
     ]
    },
    {
     "ename": "NameError",
     "evalue": "name 'train_embeddings' is not defined",
     "output_type": "error",
     "traceback": [
      "\u001b[1;31m---------------------------------------------------------------------------\u001b[0m",
      "\u001b[1;31mNameError\u001b[0m                                 Traceback (most recent call last)",
      "Cell \u001b[1;32mIn[82], line 34\u001b[0m\n\u001b[0;32m     31\u001b[0m user_query \u001b[38;5;241m=\u001b[39m \u001b[38;5;124m\"\u001b[39m\u001b[38;5;124mHow can I recover my lost debit card?\u001b[39m\u001b[38;5;124m\"\u001b[39m\n\u001b[0;32m     32\u001b[0m user_query_embedding \u001b[38;5;241m=\u001b[39m model\u001b[38;5;241m.\u001b[39mencode(user_query)\n\u001b[1;32m---> 34\u001b[0m similarities \u001b[38;5;241m=\u001b[39m calculate_similarity(user_query_embedding, \u001b[43mtrain_embeddings\u001b[49m)\n\u001b[0;32m     35\u001b[0m most_similar_idx \u001b[38;5;241m=\u001b[39m similarities\u001b[38;5;241m.\u001b[39margmax()  \u001b[38;5;66;03m# Index of most similar sentence in training set\u001b[39;00m\n\u001b[0;32m     37\u001b[0m \u001b[38;5;28mprint\u001b[39m(\u001b[38;5;124mf\u001b[39m\u001b[38;5;124m\"\u001b[39m\u001b[38;5;124mMost similar FAQ (from training data): \u001b[39m\u001b[38;5;132;01m{\u001b[39;00msentences[most_similar_idx]\u001b[38;5;132;01m}\u001b[39;00m\u001b[38;5;124m\"\u001b[39m)\n",
      "\u001b[1;31mNameError\u001b[0m: name 'train_embeddings' is not defined"
     ]
    }
   ],
   "source": [
    "from sentence_transformers import SentenceTransformer, InputExample\n",
    "from sklearn.model_selection import train_test_split\n",
    "from sklearn.metrics.pairwise import cosine_similarity\n",
    "\n",
    "# Load the pre-trained Sentence-BERT model\n",
    "model = SentenceTransformer('all-mpnet-base-v2')\n",
    "\n",
    "\n",
    "\n",
    "\n",
    "\n",
    "# Note: This is a basic example. You would typically train a model to predict similarity scores.\n"
   ]
  },
  {
   "cell_type": "code",
   "execution_count": null,
   "id": "9c80e207-3d16-4f7e-bb44-764d6d4ab5ae",
   "metadata": {},
   "outputs": [],
   "source": [
    "# Define some example data (replace with your actual dataset)\n",
    "sentences = [\n",
    "    \"What is the bank's current interest rate for a savings account?\",\n",
    "    \"How do I open a new checking account?\",\n",
    "    \"What are the fees associated with international wire transfers?\",\n",
    "    \"I forgot my debit card PIN. How can I reset it?\",\n",
    "    \"What happens if my debit card is lost or stolen?\",\n",
    "    \"How do I get a mortgage?\"\n",
    "]\n",
    "labels = [1, 0, 0, 1, 0]  # 1 indicates similar meaning, 0 otherwise (replace with actual labels)\n",
    "\n",
    "# Preprocess the text data (replace with your preprocessing steps)\n",
    "# ... (e.g., remove stop words, lowercase, etc.)\n",
    "\n",
    "# Encode the sentences using the pre-trained model\n",
    "sentence_embeddings = model.encode(sentences)"
   ]
  },
  {
   "cell_type": "code",
   "execution_count": 83,
   "id": "4a8c22e6-a82f-417d-a6b0-13150ecaa41b",
   "metadata": {},
   "outputs": [
    {
     "name": "stdout",
     "output_type": "stream",
     "text": [
      "Most similar FAQ (from training data): What happens if my debit card is lost or stolen?\n",
      "Similarity score: 0.788415789604187\n"
     ]
    }
   ],
   "source": [
    "# Function to calculate cosine similarity between embeddings\n",
    "def calculate_similarity(query_embedding, sentence_embeddings):\n",
    "  similarities = cosine_similarity(query_embedding.reshape(1, -1), sentence_embeddings)\n",
    "  return similarities.flatten()\n",
    "\n",
    "# Example usage: Find similar FAQs for a user query\n",
    "user_query = \"How can I recover my lost debit card?\"\n",
    "user_query_embedding = model.encode(user_query)\n",
    "\n",
    "similarities = calculate_similarity(user_query_embedding, sentence_embeddings)\n",
    "most_similar_idx = similarities.argmax()  # Index of most similar sentence in training set\n",
    "\n",
    "print(f\"Most similar FAQ (from training data): {sentences[most_similar_idx]}\")\n",
    "print(f\"Similarity score: {similarities[most_similar_idx]}\")\n"
   ]
  },
  {
   "cell_type": "code",
   "execution_count": null,
   "id": "5fc14c7f-3183-4d59-8b50-9115fb6125a2",
   "metadata": {},
   "outputs": [],
   "source": []
  },
  {
   "cell_type": "code",
   "execution_count": null,
   "id": "15203622-8e01-4848-8fbe-5cc54615a533",
   "metadata": {},
   "outputs": [],
   "source": [
    "from gensim.models import KeyedVectors\n",
    "from sklearn.metrics.pairwise import cosine_similarity\n",
    "\n",
    "# Load pre-trained Word2Vec model\n",
    "word2vec_model_path = \"path/to/word2vec_model.bin\"  # Path to pre-trained Word2Vec model\n",
    "word2vec_model = KeyedVectors.load_word2vec_format(word2vec_model_path, binary=True)\n",
    "\n",
    "# Sample DataFrame with questions\n",
    "data = {'Question': ['How do I check my account balance?',\n",
    "                     'What should I do if my card is lost?',\n",
    "                     'How can I apply for a loan?']}\n",
    "\n",
    "df = pd.DataFrame(data)\n",
    "\n",
    "# User input\n",
    "user_input = \"How do I check my balance?\"\n",
    "\n",
    "# Calculate Word2Vec embeddings for user input\n",
    "user_vector = sum(word2vec_model[word] for word in user_input.split() if word in word2vec_model) / len(user_input.split())\n",
    "\n",
    "# Calculate Word2Vec embeddings for questions and calculate cosine similarity\n",
    "df['Question Embeddings'] = df['Question'].apply(lambda x: sum(word2vec_model[word] for word in x.split() if word in word2vec_model) / len(x.split()))\n",
    "df['Cosine Similarity'] = df['Question Embeddings'].apply(lambda x: cosine_similarity([user_vector], [x])[0][0])\n",
    "\n",
    "print(df)\n"
   ]
  },
  {
   "cell_type": "code",
   "execution_count": null,
   "id": "228e0293-12de-4260-8a4e-f54104b54581",
   "metadata": {},
   "outputs": [],
   "source": []
  },
  {
   "cell_type": "code",
   "execution_count": null,
   "id": "dd37e1cb-978a-4d35-becd-d484a94a5ead",
   "metadata": {},
   "outputs": [],
   "source": []
  },
  {
   "cell_type": "code",
   "execution_count": null,
   "id": "07792a51-5138-4254-89dc-a47502a9a349",
   "metadata": {},
   "outputs": [],
   "source": [
    "import nltk\n",
    "from nltk.corpus import wordnet\n",
    "from nltk.tokenize import word_tokenize\n",
    "from nltk.corpus import stopwords\n",
    "from nltk.stem import WordNetLemmatizer\n",
    "from spellchecker import SpellChecker\n",
    "import gensim.downloader as api\n",
    "\n",
    "# Download NLTK resources\n",
    "nltk.download('punkt')\n",
    "nltk.download('stopwords')\n",
    "nltk.download('wordnet')\n",
    "\n",
    "# Load pre-trained Word2Vec model\n",
    "word2vec_model = api.load('word2vec-google-news-300')\n",
    "\n",
    "# Initialize SpellChecker\n",
    "spell_checker = SpellChecker()\n",
    "\n",
    "# Initialize WordNetLemmatizer\n",
    "lemmatizer = WordNetLemmatizer()\n",
    "\n",
    "# Function to preprocess text\n",
    "def preprocess_text(text):\n",
    "    # Tokenize the text\n",
    "    tokens = word_tokenize(text)\n",
    "    # Remove stop words\n",
    "    stop_words = set(stopwords.words('english'))\n",
    "    filtered_tokens = [word for word in tokens if word.lower() not in stop_words]\n",
    "    # Lemmatize tokens\n",
    "    lemmatized_tokens = [lemmatizer.lemmatize(word) for word in filtered_tokens]\n",
    "    return lemmatized_tokens\n",
    "\n",
    "# Function to find similar words using Word2Vec\n",
    "def find_similar_words(word, top_n=5):\n",
    "    try:\n",
    "        similar_words = word2vec_model.most_similar(word, topn=top_n)\n",
    "        return [word for word, _ in similar_words]\n",
    "    except KeyError:\n",
    "        return []\n",
    "\n",
    "# Function to perform spelling correction\n",
    "def correct_spelling(word):\n",
    "    return spell_checker.correction(word)\n",
    "\n",
    "# Function to find synonyms using WordNet\n",
    "def find_synonyms(word):\n",
    "    synonyms = set()\n",
    "    for synset in wordnet.synsets(word):\n",
    "        for lemma in synset.lemmas():\n",
    "            synonyms.add(lemma.name())\n",
    "    return list(synonyms)\n",
    "\n",
    "# Example usage\n",
    "text = \"How do I chek my accunt balnce?\"\n",
    "preprocessed_tokens = preprocess_text(text)\n",
    "print(\"Preprocessed tokens:\", preprocessed_tokens)\n",
    "\n",
    "corrected_tokens = [correct_spelling(token) for token in preprocessed_tokens]\n",
    "print(\"Spelling corrected tokens:\", corrected_tokens)\n",
    "\n",
    "similar_words = [find_similar_words(token) for token in corrected_tokens]\n",
    "print(\"Similar words for each token:\", similar_words)\n",
    "\n",
    "synonyms = [find_synonyms(token) for token in corrected_tokens]\n",
    "print(\"Synonyms for each token:\", synonyms)\n"
   ]
  }
 ],
 "metadata": {
  "kernelspec": {
   "display_name": "Python 3 (ipykernel)",
   "language": "python",
   "name": "python3"
  },
  "language_info": {
   "codemirror_mode": {
    "name": "ipython",
    "version": 3
   },
   "file_extension": ".py",
   "mimetype": "text/x-python",
   "name": "python",
   "nbconvert_exporter": "python",
   "pygments_lexer": "ipython3",
   "version": "3.9.16"
  }
 },
 "nbformat": 4,
 "nbformat_minor": 5
}
