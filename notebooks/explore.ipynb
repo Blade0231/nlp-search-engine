{
 "cells": [
  {
   "cell_type": "code",
   "execution_count": 1,
   "id": "83dbf6a1-ddcc-4d17-9d30-ca374b97699d",
   "metadata": {},
   "outputs": [],
   "source": [
    "import pandas as pd\n",
    "import numpy as np"
   ]
  },
  {
   "cell_type": "code",
   "execution_count": 2,
   "id": "41834c0c-0504-466c-890b-f2a793591d9d",
   "metadata": {},
   "outputs": [],
   "source": [
    "input = \"need motgage for properety\""
   ]
  },
  {
   "cell_type": "markdown",
   "id": "9137b4f4-fd01-4668-a14a-fdebf1d2a133",
   "metadata": {},
   "source": [
    "## Spell Corrector"
   ]
  },
  {
   "cell_type": "code",
   "execution_count": 3,
   "id": "3dc71c98-2586-4e34-9f62-d7c6fb728c07",
   "metadata": {},
   "outputs": [],
   "source": [
    "from spellchecker import SpellChecker"
   ]
  },
  {
   "cell_type": "code",
   "execution_count": 4,
   "id": "cde7c329-5282-473b-8801-51afa7e4cd51",
   "metadata": {},
   "outputs": [],
   "source": [
    "spell = SpellChecker()\n",
    "\n",
    "\n",
    "def correct_spelling(text, custom_words=None):\n",
    "    # Add custom words to the dictionary\n",
    "    if custom_words:\n",
    "        for word in custom_words:\n",
    "            spell.word_frequency.load_words([word])\n",
    "\n",
    "    # Tokenize the text\n",
    "    words = text.split()\n",
    "    corrected_text = []\n",
    "    for word in words:\n",
    "        # Check if the word is misspelled\n",
    "        corrected_word = spell.correction(word)\n",
    "        corrected_text.append(corrected_word)\n",
    "    # Join the corrected words back into a string\n",
    "    corrected_text = ' '.join(corrected_text)\n",
    "    return corrected_text"
   ]
  },
  {
   "cell_type": "code",
   "execution_count": 5,
   "id": "538f3000-08db-4b19-8823-63db22b5aefa",
   "metadata": {},
   "outputs": [
    {
     "data": {
      "text/plain": [
       "'need mortgage for property'"
      ]
     },
     "execution_count": 5,
     "metadata": {},
     "output_type": "execute_result"
    }
   ],
   "source": [
    "correct_spelling(input, custom_words=[\"EBM\"])"
   ]
  },
  {
   "cell_type": "markdown",
   "id": "ae1d8a47-9887-4e9b-b99e-11723821c0e9",
   "metadata": {},
   "source": [
    "## Stop Words Remover"
   ]
  },
  {
   "cell_type": "code",
   "execution_count": 13,
   "id": "16d9878c-940c-45b6-9b30-9040a612f5cd",
   "metadata": {},
   "outputs": [],
   "source": [
    "from nltk.corpus import stopwords"
   ]
  },
  {
   "cell_type": "code",
   "execution_count": 18,
   "id": "7e1e2739-22c1-4cd3-951e-f65d7e311ac7",
   "metadata": {},
   "outputs": [
    {
     "data": {
      "text/plain": [
       "179"
      ]
     },
     "execution_count": 18,
     "metadata": {},
     "output_type": "execute_result"
    }
   ],
   "source": [
    "stop_words = set(stopwords.words('english'))\n",
    "len(stop_words)"
   ]
  },
  {
   "cell_type": "code",
   "execution_count": 20,
   "id": "e117bd12-c7ff-4163-8410-0a28d1375a61",
   "metadata": {},
   "outputs": [
    {
     "data": {
      "text/plain": [
       "318"
      ]
     },
     "execution_count": 20,
     "metadata": {},
     "output_type": "execute_result"
    }
   ],
   "source": [
    "from sklearn.feature_extraction.text import ENGLISH_STOP_WORDS\n",
    "\n",
    "len(ENGLISH_STOP_WORDS)"
   ]
  },
  {
   "cell_type": "code",
   "execution_count": null,
   "id": "c82a55d5-ac5b-44b5-b70e-2e46d437c7b2",
   "metadata": {},
   "outputs": [],
   "source": []
  },
  {
   "cell_type": "markdown",
   "id": "dfa201e5-261f-4fa9-85f0-d3156de42855",
   "metadata": {},
   "source": [
    "## Read Text Files"
   ]
  },
  {
   "cell_type": "code",
   "execution_count": 6,
   "id": "ac27ada3-0801-4374-b5be-fb033e02b234",
   "metadata": {},
   "outputs": [],
   "source": [
    "import glob"
   ]
  },
  {
   "cell_type": "code",
   "execution_count": 41,
   "id": "e61a3991-9533-44b4-b181-5ffece033f4c",
   "metadata": {},
   "outputs": [],
   "source": [
    "txt_files = glob.glob(\"..\\\\FAQs\\\\*.txt\")"
   ]
  },
  {
   "cell_type": "code",
   "execution_count": 42,
   "id": "3b7e5a5a-812e-41d8-9bd9-3a90522ac2b6",
   "metadata": {},
   "outputs": [],
   "source": [
    "lines = set(sum([open(f, \"r\", encoding='utf-8').readlines() for f in glob.glob(\"..\\\\FAQs\\\\*.txt\")],[]))\n",
    "#lines.remove(\"\\n\")"
   ]
  },
  {
   "cell_type": "code",
   "execution_count": 43,
   "id": "b5d87fbf-3861-43fd-b354-bd95e1ddf6a3",
   "metadata": {},
   "outputs": [],
   "source": [
    "ds = pd.DataFrame({\"Questions\": list(lines)})"
   ]
  },
  {
   "cell_type": "code",
   "execution_count": 44,
   "id": "dd57e0ab-ea30-4d4b-9ac8-9c81ca8787b6",
   "metadata": {},
   "outputs": [],
   "source": [
    "ds[\"Questions\"] = ds[\"Questions\"].apply(lambda x: x.strip())"
   ]
  },
  {
   "cell_type": "code",
   "execution_count": 54,
   "id": "32ee519d-b083-452d-8566-0f35321d6ea9",
   "metadata": {},
   "outputs": [
    {
     "data": {
      "text/html": [
       "<div>\n",
       "<style scoped>\n",
       "    .dataframe tbody tr th:only-of-type {\n",
       "        vertical-align: middle;\n",
       "    }\n",
       "\n",
       "    .dataframe tbody tr th {\n",
       "        vertical-align: top;\n",
       "    }\n",
       "\n",
       "    .dataframe thead th {\n",
       "        text-align: right;\n",
       "    }\n",
       "</style>\n",
       "<table border=\"1\" class=\"dataframe\">\n",
       "  <thead>\n",
       "    <tr style=\"text-align: right;\">\n",
       "      <th></th>\n",
       "      <th>Questions</th>\n",
       "    </tr>\n",
       "  </thead>\n",
       "  <tbody>\n",
       "    <tr>\n",
       "      <th>162</th>\n",
       "      <td>How to get a mortgage</td>\n",
       "    </tr>\n",
       "  </tbody>\n",
       "</table>\n",
       "</div>"
      ],
      "text/plain": [
       "                 Questions\n",
       "162  How to get a mortgage"
      ]
     },
     "execution_count": 54,
     "metadata": {},
     "output_type": "execute_result"
    }
   ],
   "source": [
    "ds[ds[\"Questions\"]==\"How to get a mortgage\"]"
   ]
  },
  {
   "cell_type": "code",
   "execution_count": 50,
   "id": "d11872ce-8d61-477c-9cee-8891ee2a04cf",
   "metadata": {},
   "outputs": [],
   "source": [
    "from sentence_transformers import SentenceTransformer, InputExample\n",
    "from sklearn.model_selection import train_test_split\n",
    "from sklearn.metrics.pairwise import cosine_similarity\n",
    "\n",
    "model = SentenceTransformer('all-mpnet-base-v2')"
   ]
  },
  {
   "cell_type": "code",
   "execution_count": 84,
   "id": "9c80e207-3d16-4f7e-bb44-764d6d4ab5ae",
   "metadata": {},
   "outputs": [],
   "source": [
    "# Define some example data (replace with your actual dataset)\n",
    "sentences = [\n",
    "    \"What is the bank's current interest rate for a savings account?\",\n",
    "    \"How do I open a new checking account?\",\n",
    "    \"What are the fees associated with international wire transfers?\",\n",
    "    \"I forgot my debit card PIN. How can I reset it?\",\n",
    "    \"What happens if my debit card is lost or stolen?\",\n",
    "    \"How do I get a mortgage?\"\n",
    "]\n",
    "labels = [1, 0, 0, 1, 0]  # 1 indicates similar meaning, 0 otherwise (replace with actual labels)\n",
    "\n",
    "# Preprocess the text data (replace with your preprocessing steps)\n",
    "# ... (e.g., remove stop words, lowercase, etc.)\n",
    "\n",
    "# Encode the sentences using the pre-trained model\n",
    "sentence_embeddings = model.encode(sentences)"
   ]
  },
  {
   "cell_type": "code",
   "execution_count": 51,
   "id": "7eac05f6-2f8d-4662-930c-d684363d5dbb",
   "metadata": {},
   "outputs": [],
   "source": [
    "sentences = ds[\"Questions\"].tolist()\n",
    "\n",
    "sentence_embeddings = model.encode(sentences)"
   ]
  },
  {
   "cell_type": "code",
   "execution_count": 64,
   "id": "4a8c22e6-a82f-417d-a6b0-13150ecaa41b",
   "metadata": {},
   "outputs": [
    {
     "name": "stdout",
     "output_type": "stream",
     "text": [
      "Most similar FAQ (from training data): How to get a mortgage\n",
      "Similarity score: 0.6793996095657349\n"
     ]
    }
   ],
   "source": [
    "# Function to calculate cosine similarity between embeddings\n",
    "def calculate_similarity(query_embedding, sentence_embeddings):\n",
    "  similarities = cosine_similarity(query_embedding.reshape(1, -1), sentence_embeddings)\n",
    "  return similarities.flatten()\n",
    "\n",
    "# Example usage: Find similar FAQs for a user query\n",
    "user_query = \"need mortgage\"\n",
    "user_query_embedding = model.encode(user_query)\n",
    "\n",
    "similarities = calculate_similarity(user_query_embedding, sentence_embeddings)\n",
    "most_similar_idx = similarities.argmax()  # Index of most similar sentence in training set\n",
    "\n",
    "print(f\"Most similar FAQ (from training data): {sentences[most_similar_idx]}\")\n",
    "print(f\"Similarity score: {similarities[most_similar_idx]}\")\n"
   ]
  },
  {
   "cell_type": "code",
   "execution_count": 65,
   "id": "5fc14c7f-3183-4d59-8b50-9115fb6125a2",
   "metadata": {},
   "outputs": [
    {
     "name": "stdout",
     "output_type": "stream",
     "text": [
      "Most similar FAQ (from training data): How to get a mortgage\n",
      "Similarity score: 0.6793996095657349\n",
      "Most similar FAQ (from training data): What’s a mortgage reserve?\n",
      "Similarity score: 0.45389872789382935\n",
      "Most similar FAQ (from training data): How do I pay off my mortgage?\n",
      "Similarity score: 0.4509562849998474\n",
      "Most similar FAQ (from training data): How much can I borrow for my mortgage?\n",
      "Similarity score: 0.40523073077201843\n",
      "Most similar FAQ (from training data): How do I make an overpayment to my mortgage?\n",
      "Similarity score: 0.39953261613845825\n"
     ]
    }
   ],
   "source": [
    "for idx in similarities.argsort()[-5:][::-1]:\n",
    "    print(f\"Most similar FAQ (from training data): {sentences[idx]}\")\n",
    "    print(f\"Similarity score: {similarities[idx]}\")"
   ]
  },
  {
   "cell_type": "code",
   "execution_count": 53,
   "id": "fc333e94-dbe3-4677-bf4b-41130b33b82e",
   "metadata": {},
   "outputs": [
    {
     "data": {
      "text/plain": [
       "array([ 39, 129, 113, 160, 122,  67, 104, 128, 115, 158, 152,  46,  82,\n",
       "         6,  85, 177, 146,   8, 110,  63, 135, 171,  96,   4, 174,  21,\n",
       "       108,  80,  18, 154,  42, 186,  17,  19,  78,  11,  29,  55, 132,\n",
       "       169, 126,   1, 179,  60, 151,  75, 109, 156, 118, 149, 178, 185,\n",
       "       165, 144, 111,  33,  24,   2,  68,  72, 157,  22, 140,  45,  73,\n",
       "        50,  64,  12,  59, 166,  16, 124, 175, 139,  58, 143, 150, 148,\n",
       "        69,  84,  97, 170,  91, 121,  70,   0,  53,  27,  37,  48,  32,\n",
       "        40, 101,  76, 145, 173, 180,  86, 147,  31,  44, 102,  93, 106,\n",
       "        74, 119, 112,  79, 164,  20, 182, 161,   3, 137, 130,   5, 131,\n",
       "       168,  41, 100,  34,  25,  99, 136,  38, 116,  14,  23,  47,  81,\n",
       "        26, 153,  90,  15, 184, 105,  77, 159, 142, 114,  95,  10, 172,\n",
       "       134, 103, 176, 181, 138,  65, 107,   7, 117, 133,  36,  57,  61,\n",
       "       123,  30,  89,  54,  87, 120, 163,  28,  35, 187, 183,  51,  83,\n",
       "        49,  98,  43, 167,  56,  66,  94,  52, 127,  92,   9,  71,  62,\n",
       "       125, 141, 155,  13, 162,  88], dtype=int64)"
      ]
     },
     "execution_count": 53,
     "metadata": {},
     "output_type": "execute_result"
    }
   ],
   "source": [
    "similarities.argsort()"
   ]
  },
  {
   "cell_type": "code",
   "execution_count": 38,
   "id": "228e0293-12de-4260-8a4e-f54104b54581",
   "metadata": {},
   "outputs": [
    {
     "name": "stdout",
     "output_type": "stream",
     "text": [
      "Most similar FAQ (from training data): How do I make an overpayment to my mortgage?\n",
      "Similarity score: 0.3428468704223633\n"
     ]
    }
   ],
   "source": [
    "print(f\"Most similar FAQ (from training data): {sentences[14]}\")\n",
    "print(f\"Similarity score: {similarities[14]}\")"
   ]
  },
  {
   "cell_type": "code",
   "execution_count": 39,
   "id": "dd37e1cb-978a-4d35-becd-d484a94a5ead",
   "metadata": {},
   "outputs": [
    {
     "name": "stdout",
     "output_type": "stream",
     "text": [
      "Most similar FAQ (from training data): How can I make or cancel a CHAPS payment?\n",
      "Similarity score: 0.3237667679786682\n"
     ]
    }
   ],
   "source": [
    "print(f\"Most similar FAQ (from training data): {sentences[156]}\")\n",
    "print(f\"Similarity score: {similarities[156]}\")"
   ]
  },
  {
   "cell_type": "code",
   "execution_count": 58,
   "id": "ca6e24cb-ef75-4567-9009-cfbf3279547e",
   "metadata": {},
   "outputs": [
    {
     "name": "stdout",
     "output_type": "stream",
     "text": [
      "Most similar FAQ (from training data): How to get a mortgage\n",
      "Similarity score: 0.35815101861953735\n"
     ]
    }
   ],
   "source": [
    "print(f\"Most similar FAQ (from training data): {sentences[162]}\")\n",
    "print(f\"Similarity score: {similarities[162]}\")"
   ]
  },
  {
   "cell_type": "code",
   "execution_count": null,
   "id": "07792a51-5138-4254-89dc-a47502a9a349",
   "metadata": {},
   "outputs": [],
   "source": [
    "import nltk\n",
    "from nltk.corpus import wordnet\n",
    "from nltk.tokenize import word_tokenize\n",
    "from nltk.corpus import stopwords\n",
    "from nltk.stem import WordNetLemmatizer\n",
    "from spellchecker import SpellChecker\n",
    "import gensim.downloader as api\n",
    "\n",
    "# Download NLTK resources\n",
    "nltk.download('punkt')\n",
    "nltk.download('stopwords')\n",
    "nltk.download('wordnet')\n",
    "\n",
    "# Load pre-trained Word2Vec model\n",
    "word2vec_model = api.load('word2vec-google-news-300')\n",
    "\n",
    "# Initialize SpellChecker\n",
    "spell_checker = SpellChecker()\n",
    "\n",
    "# Initialize WordNetLemmatizer\n",
    "lemmatizer = WordNetLemmatizer()\n",
    "\n",
    "# Function to preprocess text\n",
    "def preprocess_text(text):\n",
    "    # Tokenize the text\n",
    "    tokens = word_tokenize(text)\n",
    "    # Remove stop words\n",
    "    stop_words = set(stopwords.words('english'))\n",
    "    filtered_tokens = [word for word in tokens if word.lower() not in stop_words]\n",
    "    # Lemmatize tokens\n",
    "    lemmatized_tokens = [lemmatizer.lemmatize(word) for word in filtered_tokens]\n",
    "    return lemmatized_tokens\n",
    "\n",
    "# Function to find similar words using Word2Vec\n",
    "def find_similar_words(word, top_n=5):\n",
    "    try:\n",
    "        similar_words = word2vec_model.most_similar(word, topn=top_n)\n",
    "        return [word for word, _ in similar_words]\n",
    "    except KeyError:\n",
    "        return []\n",
    "\n",
    "# Function to perform spelling correction\n",
    "def correct_spelling(word):\n",
    "    return spell_checker.correction(word)\n",
    "\n",
    "# Function to find synonyms using WordNet\n",
    "def find_synonyms(word):\n",
    "    synonyms = set()\n",
    "    for synset in wordnet.synsets(word):\n",
    "        for lemma in synset.lemmas():\n",
    "            synonyms.add(lemma.name())\n",
    "    return list(synonyms)\n",
    "\n",
    "# Example usage\n",
    "text = \"How do I chek my accunt balnce?\"\n",
    "preprocessed_tokens = preprocess_text(text)\n",
    "print(\"Preprocessed tokens:\", preprocessed_tokens)\n",
    "\n",
    "corrected_tokens = [correct_spelling(token) for token in preprocessed_tokens]\n",
    "print(\"Spelling corrected tokens:\", corrected_tokens)\n",
    "\n",
    "similar_words = [find_similar_words(token) for token in corrected_tokens]\n",
    "print(\"Similar words for each token:\", similar_words)\n",
    "\n",
    "synonyms = [find_synonyms(token) for token in corrected_tokens]\n",
    "print(\"Synonyms for each token:\", synonyms)\n"
   ]
  }
 ],
 "metadata": {
  "kernelspec": {
   "display_name": "Python 3 (ipykernel)",
   "language": "python",
   "name": "python3"
  },
  "language_info": {
   "codemirror_mode": {
    "name": "ipython",
    "version": 3
   },
   "file_extension": ".py",
   "mimetype": "text/x-python",
   "name": "python",
   "nbconvert_exporter": "python",
   "pygments_lexer": "ipython3",
   "version": "3.9.16"
  }
 },
 "nbformat": 4,
 "nbformat_minor": 5
}
